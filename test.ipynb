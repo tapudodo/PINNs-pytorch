{
 "cells": [
  {
   "cell_type": "code",
   "execution_count": 1,
   "id": "9dc842d8",
   "metadata": {},
   "outputs": [],
   "source": [
    "import torch\n",
    "from torch._C import unify_type_list\n",
    "import torch.nn as nn                     # neural networks\n",
    "import torch.autograd as autograd         # computation graph\n",
    "import numpy as np\n",
    "from pyDOE import lhs"
   ]
  },
  {
   "cell_type": "code",
   "execution_count": 32,
   "id": "2635bdf1",
   "metadata": {},
   "outputs": [],
   "source": [
    "class PINNBTPDENN(nn.Module):\n",
    "    def __init__(self,layerslist):\n",
    "        super(PINNBTPDENN, self).__init__()\n",
    "        'loss function'\n",
    "        self.loss_function = nn.MSELoss(reduction ='mean')\n",
    "\n",
    "        self.diffusivity = 2e-3\n",
    "        self.bvalue = 500\n",
    "\n",
    "        # self.flatten = nn.Flatten()\n",
    "        modules = []\n",
    "        for i in range(0,len(layerslist)-1):\n",
    "            nnlayer = nn.Linear(layerslist[i], layerslist[i+1]).to(torch.cfloat)\n",
    "            nn.init.xavier_normal_(nnlayer.weight.data)\n",
    "            nn.init.zeros_(nnlayer.bias.data)\n",
    "            modules.append(nnlayer)\n",
    "            if i != len(layerslist)-2:\n",
    "                modules.append(nn.Tanh())\n",
    "\n",
    "        self.layers = nn.Sequential(*modules)\n",
    "        # alternative choice is nn.init.normal_ or nn.init.kaiming_uniform_ kaiming_normal_\n",
    "\n",
    "        self.iter = 0\n",
    "\n",
    "\n",
    "    def forward(self, X):\n",
    "        # X is stack of x and t\n",
    "        if torch.is_tensor(X) != True:         \n",
    "            X = torch.from_numpy(X)\n",
    "\n",
    "        H = self.layers(X.cfloat())\n",
    "        return H\n",
    "    \n",
    "    def compute_u_1order(self, x):\n",
    "        self.u_x = torch.autograd.functional.jacobian(self, x, create_graph=True)\n",
    "        self.u_x = torch.squeeze(self.u_x)\n",
    "        return self.u_x\n",
    "    \n",
    "    def compute_u_2order(self, x):\n",
    "        self.u_xx = torch.autograd.functional.jacobian(self.compute_u_1order, x)\n",
    "        self.u_xx = torch.squeeze(self.u_xx)\n",
    "        return self.u_xx\n",
    "    \n",
    "    def loss_PDE(self, x,y):\n",
    "                \n",
    "        # x_1_f = x_to_train_f[:,[0]]\n",
    "        # x_2_f = x_to_train_f[:,[1]]\n",
    "                        \n",
    "        g = x.clone().cfloat()\n",
    "                        \n",
    "        g.requires_grad = True\n",
    "        \n",
    "        u = self.forward(g)\n",
    "                \n",
    "        u_1order = autograd.grad(u,g,torch.ones_like(u), retain_graph=True, create_graph=True)[0] \n",
    "        u_2order = autograd.grad(u_1order[:,[0]],g,torch.ones_like(u_1order[:,[0]]), create_graph=True)\n",
    "        u_2order = autograd.grad(u_1order[:,[1]],g,torch.ones_like(u_1order[:,[1]]), create_graph=True)\n",
    "#         u_2order = [0,0]\n",
    "\n",
    "#         u_1order = self.compute_u_1order(g)\n",
    "#         u_2order = self.compute_u_2order(g)\n",
    "        \n",
    "                \n",
    "        return u_1order, u_2order\n"
   ]
  },
  {
   "cell_type": "code",
   "execution_count": 43,
   "id": "1846a250",
   "metadata": {},
   "outputs": [
    {
     "name": "stdout",
     "output_type": "stream",
     "text": [
      "[[ 0.72928591]\n",
      " [-0.66543458]\n",
      " [-0.36342795]\n",
      " [ 0.56790124]\n",
      " [-0.02045112]]\n",
      "tensor([[0, 0, 0, 1],\n",
      "        [0, 0, 0, 1],\n",
      "        [0, 0, 0, 1],\n",
      "        [0, 0, 0, 1],\n",
      "        [0, 0, 0, 1]], dtype=torch.int32)\n"
     ]
    }
   ],
   "source": [
    "nnlayers = [4, 20, 20, 20, 20, 20, 20, 20, 20, 1]\n",
    "device = torch.device('cuda' if torch.cuda.is_available() else 'cpu')\n",
    "model = PINNBTPDENN(nnlayers).to(device)\n",
    "radius = 1\n",
    "demiheight = 50\n",
    "N_f_train = 5\n",
    "lb = np.array([-radius,-radius,-demiheight,0])\n",
    "ub = np.array([radius,radius,demiheight,15000])\n",
    "Input_f_train = lb + (ub-lb)*lhs(4,N_f_train) \n",
    "print(Input_f_train[:,[0]])\n",
    "Input_f_train = torch.from_numpy(Input_f_train).float().to(device)\n",
    "print(torch.gt(Input_f_train[:,[3]], 500).int() - torch.gt(Input_f_train[:,[3]], 500).int() )\n",
    "zero_f_train = torch.zeros(Input_f_train.shape[0],1).to(device)"
   ]
  },
  {
   "cell_type": "code",
   "execution_count": 34,
   "id": "0e870cca",
   "metadata": {},
   "outputs": [
    {
     "name": "stdout",
     "output_type": "stream",
     "text": [
      "torch.Size([5, 4])\n",
      "tensor([[ 0.0000e+00+0.0000e+00j,  0.0000e+00+0.0000e+00j,\n",
      "          0.0000e+00+0.0000e+00j,  0.0000e+00+0.0000e+00j],\n",
      "        [ 1.4190e-35-8.1579e-36j, -4.4163e-35+6.0375e-35j,\n",
      "         -8.8659e-35-1.1268e-35j,  1.8195e-35-1.1584e-34j],\n",
      "        [ 0.0000e+00+0.0000e+00j,  0.0000e+00+0.0000e+00j,\n",
      "          0.0000e+00+0.0000e+00j,  0.0000e+00+0.0000e+00j],\n",
      "        [ 0.0000e+00+0.0000e+00j,  0.0000e+00+0.0000e+00j,\n",
      "          0.0000e+00+0.0000e+00j,  0.0000e+00+0.0000e+00j],\n",
      "        [ 0.0000e+00+0.0000e+00j,  0.0000e+00+0.0000e+00j,\n",
      "          0.0000e+00+0.0000e+00j,  0.0000e+00+0.0000e+00j]],\n",
      "       grad_fn=<MmBackward>)\n",
      "tensor([[0.0000e+00+0.0000e+00j],\n",
      "        [1.4190e-35-8.1579e-36j],\n",
      "        [0.0000e+00+0.0000e+00j],\n",
      "        [0.0000e+00+0.0000e+00j],\n",
      "        [0.0000e+00+0.0000e+00j]], grad_fn=<IndexBackward>)\n",
      "(tensor([[ 0.0000e+00+0.0000e+00j,  0.0000e+00+0.0000e+00j,\n",
      "          0.0000e+00+0.0000e+00j,  0.0000e+00+0.0000e+00j],\n",
      "        [ 7.2156e-37+6.1466e-36j, -1.4404e-35-2.4340e-35j,\n",
      "          1.7121e-35-2.9133e-35j,  3.7547e-35+2.3576e-35j],\n",
      "        [ 0.0000e+00+0.0000e+00j,  0.0000e+00+0.0000e+00j,\n",
      "          0.0000e+00+0.0000e+00j,  0.0000e+00+0.0000e+00j],\n",
      "        [ 0.0000e+00+0.0000e+00j,  0.0000e+00+0.0000e+00j,\n",
      "          0.0000e+00+0.0000e+00j,  0.0000e+00+0.0000e+00j],\n",
      "        [ 0.0000e+00+0.0000e+00j,  0.0000e+00+0.0000e+00j,\n",
      "          0.0000e+00+0.0000e+00j,  0.0000e+00+0.0000e+00j]],\n",
      "       grad_fn=<MmBackward>),)\n"
     ]
    }
   ],
   "source": [
    "u_1order, u_2order = model.loss_PDE(Input_f_train,zero_f_train)\n",
    "print(Input_f_train.size())\n",
    "print(u_1order)\n",
    "print(u_1order[:,[0]])\n",
    "print(u_2order)"
   ]
  },
  {
   "cell_type": "code",
   "execution_count": 36,
   "id": "fed50b56",
   "metadata": {},
   "outputs": [
    {
     "name": "stdout",
     "output_type": "stream",
     "text": [
      "[1, 2] [3, 4] [5, 6]\n"
     ]
    }
   ],
   "source": [
    "a,b,c = ([1,2],[3,4],[5,6])\n",
    "print(a,b,c)"
   ]
  },
  {
   "cell_type": "code",
   "execution_count": null,
   "id": "95b61b31",
   "metadata": {},
   "outputs": [],
   "source": [
    "np.sqrt(-1)"
   ]
  }
 ],
 "metadata": {
  "kernelspec": {
   "display_name": "defaut",
   "language": "python",
   "name": "defaut"
  },
  "language_info": {
   "codemirror_mode": {
    "name": "ipython",
    "version": 3
   },
   "file_extension": ".py",
   "mimetype": "text/x-python",
   "name": "python",
   "nbconvert_exporter": "python",
   "pygments_lexer": "ipython3",
   "version": "3.8.12"
  }
 },
 "nbformat": 4,
 "nbformat_minor": 5
}
